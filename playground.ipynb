{
 "cells": [
  {
   "cell_type": "markdown",
   "metadata": {},
   "source": [
    "# MOSE playground"
   ]
  },
  {
   "cell_type": "markdown",
   "metadata": {},
   "source": [
    "## Basic Arguments Settting"
   ]
  },
  {
   "cell_type": "code",
   "execution_count": 2,
   "metadata": {},
   "outputs": [
    {
     "name": "stdout",
     "output_type": "stream",
     "text": [
      "====================================================================================================\n",
      "Arguments =\n",
      "\tseed: 0\n",
      "\tlr: 0.001\n",
      "\twd: 0.0001\n",
      "\tdataset: cifar100\n",
      "\tbuffer_size: 5000\n",
      "\tbuffer_batch_size: 64\n",
      "\trun_nums: 1\n",
      "\tbatch_size: 10\n",
      "\tins_t: 0.07\n",
      "\tgpu_id: 5\n",
      "\tn_workers: 8\n",
      "\tcuda: True\n"
     ]
    }
   ],
   "source": [
    "import argparse\n",
    "import random\n",
    "import numpy as np\n",
    "import torch\n",
    "import os\n",
    "import warnings\n",
    "from multi_runs import multiple_run\n",
    "\n",
    "import datetime\n",
    "import numpy as np\n",
    "import torch\n",
    "import torch.nn.functional as F\n",
    "from torch.optim import Adam, SGD\n",
    "from experiment.dataset import get_data\n",
    "from models.buffer import Buffer\n",
    "from train_mose import TrainLearner_MOSE\n",
    "from models.Resnet18_SD import resnet18_sd\n",
    "from utils.util import compute_performance\n",
    "\n",
    "os.environ['CUDA_LAUNCH_BLOCKING'] = '1'\n",
    "warnings.filterwarnings('ignore')\n",
    "\n",
    "args = argparse.Namespace()\n",
    "setattr(args, 'seed', 0)\n",
    "setattr(args, 'lr', 1e-3)\n",
    "setattr(args, 'wd', 1e-4)\n",
    "setattr(args, 'dataset', 'cifar100')\n",
    "setattr(args, 'buffer_size', 5000)\n",
    "setattr(args, 'buffer_batch_size', 64)\n",
    "setattr(args, 'run_nums', 1)\n",
    "setattr(args, 'batch_size', 10)\n",
    "setattr(args, 'ins_t', 0.07)\n",
    "setattr(args, 'gpu_id', 5)\n",
    "setattr(args, 'n_workers', 8)\n",
    "\n",
    "torch.cuda.set_device(args.gpu_id)\n",
    "args.cuda = torch.cuda.is_available()\n",
    "print('=' * 100)\n",
    "print('Arguments =')\n",
    "for arg in vars(args):\n",
    "    print('\\t' + arg + ':', getattr(args, arg))\n",
    "np.random.seed(args.seed)\n",
    "random.seed(args.seed)\n",
    "torch.manual_seed(args.seed)\n",
    "if args.cuda:\n",
    "    torch.cuda.manual_seed(args.seed)\n",
    "    torch.backends.cudnn.deterministic = True\n",
    "    torch.backends.cudnn.benchmark = False\n",
    "else:\n",
    "    print('[CUDA is unavailable]')"
   ]
  },
  {
   "cell_type": "markdown",
   "metadata": {},
   "source": [
    "## Multiple Run"
   ]
  },
  {
   "cell_type": "code",
   "execution_count": null,
   "metadata": {},
   "outputs": [],
   "source": [
    "test_all_acc = torch.zeros(args.run_nums)\n",
    "accuracy_list = []\n",
    "\n",
    "for run in range(args.run_nums):\n",
    "    tmp_acc = []\n",
    "    print('=' * 100)\n",
    "    print(f\"-----------------------------run {run} start--------------------------\")\n",
    "    print(datetime.datetime.now().strftime('%Y-%m-%d %H:%M:%S'))\n",
    "    print('=' * 100)\n",
    "\n",
    "    # initialize\n",
    "    data, class_num, class_per_task, task_loader, input_size = get_data(args.dataset, args.batch_size, args.n_workers)\n",
    "    args.n_classes = class_num\n",
    "    buffer = Buffer(args, input_size).cuda()\n",
    "\n",
    "    model = resnet18_sd(class_num).cuda()\n",
    "    optimizer = Adam(model.parameters(), lr=args.lr,  weight_decay=1e-4)\n",
    "    agent = TrainLearner_MOSE(model, buffer, optimizer, class_num, class_per_task, input_size, args)\n",
    "\n",
    "    # training\n",
    "    for i in range(len(task_loader)):\n",
    "        print(f\"-----------------------------run {run} task id:{i} start training-----------------------------\")\n",
    "\n",
    "        agent.train(i, task_loader[i]['train'])\n",
    "        acc_list = agent.test(i, task_loader)\n",
    "        tmp_acc.append(acc_list)\n",
    "\n",
    "    test_accuracy = acc_list.mean()\n",
    "    test_all_acc[run] = test_accuracy\n",
    "    accuracy_list.append(np.array(tmp_acc))\n",
    "\n",
    "    print('=' * 100)\n",
    "    print(\"{}th run's Test result: Accuracy: {:.2f}%\".format(run, test_accuracy))\n",
    "    print('=' * 100)\n",
    "\n",
    "    agent.save_checkpoint('./outputs/final.pt')\n",
    "\n",
    "accuracy_array = np.array(accuracy_list)\n",
    "avg_end_acc, avg_end_fgt, avg_acc, avg_bwtp, avg_fwt = compute_performance(accuracy_array)\n",
    "print('=' * 100)\n",
    "print(f\"total {args.run_nums}runs test acc results: {test_all_acc}\")\n",
    "print('----------- Avg_End_Acc {} Avg_End_Fgt {} Avg_Acc {} Avg_Bwtp {} Avg_Fwt {}-----------'\n",
    "        .format(avg_end_acc, avg_end_fgt, avg_acc, avg_bwtp, avg_fwt))\n",
    "print('=' * 100)"
   ]
  },
  {
   "cell_type": "markdown",
   "metadata": {},
   "source": [
    "## Test Ensemble Outputs"
   ]
  },
  {
   "cell_type": "code",
   "execution_count": 3,
   "metadata": {},
   "outputs": [
    {
     "name": "stdout",
     "output_type": "stream",
     "text": [
      "Task order = [0, 1, 2, 3, 4, 5, 6, 7, 8, 9]\n",
      "Data and loader is prepared\n",
      "buffer has 5000 slots\n",
      "bx torch.Size([5000, 3, 32, 32])\n"
     ]
    }
   ],
   "source": [
    "# initialize\n",
    "data, class_num, class_per_task, task_loader, input_size = get_data(args.dataset, args.batch_size, args.n_workers)\n",
    "args.n_classes = class_num\n",
    "buffer = Buffer(args, input_size).cuda()\n",
    "model = resnet18_sd(class_num).cuda()\n",
    "optimizer = Adam(model.parameters(), lr=args.lr,  weight_decay=1e-4)\n",
    "agent = TrainLearner_MOSE(model, buffer, optimizer, class_num, class_per_task, input_size, args)"
   ]
  },
  {
   "cell_type": "code",
   "execution_count": 4,
   "metadata": {},
   "outputs": [
    {
     "name": "stdout",
     "output_type": "stream",
     "text": [
      "Load checkpoint from: ./outputs/final.pt\n"
     ]
    }
   ],
   "source": [
    "# loading\n",
    "agent.load_checkpoint('./outputs/final.pt')\n",
    "agent.buffer.current_index = args.buffer_size - 1"
   ]
  },
  {
   "cell_type": "code",
   "execution_count": 5,
   "metadata": {},
   "outputs": [],
   "source": [
    "def test(agent, i, task_loader, feat_ids=[3]):\n",
    "    agent.model.eval()\n",
    "    acc_lists = []\n",
    "    for feat_id in feat_ids:\n",
    "        print(f\"{'*'*100}\\nTest with the output of layer: {feat_id+1}\\n\")\n",
    "        agent.class_means = {}\n",
    "        agent.seen_classes = list(set(agent.buffer.y_int.tolist()))\n",
    "        class_inputs = {cls: [] for cls in agent.seen_classes}\n",
    "        for x, y in zip(agent.buffer.x, agent.buffer.y_int):\n",
    "            class_inputs[y.item()].append(x)\n",
    "\n",
    "        for cls, inputs in class_inputs.items():\n",
    "            features = []\n",
    "            for ex in inputs:\n",
    "                # feature = agent.model.final_feature(ex.unsqueeze(0)).detach().clone()\n",
    "                feature = agent.model.features(ex.unsqueeze(0))[feat_id].detach().clone()\n",
    "                feature = F.normalize(feature, dim=1)\n",
    "                features.append(feature.squeeze())\n",
    "\n",
    "            if len(features) == 0:\n",
    "                mu_y = torch.normal(\n",
    "                    # 0, 1, size=tuple(agent.model.final_feature(x.unsqueeze(0)).detach().size())\n",
    "                    0, 1, size=tuple(agent.model.features(x.unsqueeze(0))[feat_id].detach().size())\n",
    "                )\n",
    "                mu_y = mu_y.to(x.device)\n",
    "            else:\n",
    "                features = torch.stack(features)\n",
    "                mu_y = features.mean(0)\n",
    "            mu_y = F.normalize(mu_y.reshape(1, -1), dim=1)\n",
    "            agent.class_means[cls] = mu_y.squeeze()\n",
    "\n",
    "        with torch.no_grad():\n",
    "            acc_list = np.zeros(len(task_loader))\n",
    "            for j in range(i + 1):\n",
    "                acc = agent.test_model(task_loader[j]['test'], j, feat_id=feat_id)\n",
    "                acc_list[j] = acc.item()\n",
    "\n",
    "            print(f\"tasks acc:{acc_list}\")\n",
    "            print(f\"tasks avg acc:{acc_list[:i+1].mean()}\")\n",
    "        acc_lists.append(acc_list)\n",
    "\n",
    "    return acc_lists"
   ]
  },
  {
   "cell_type": "code",
   "execution_count": 6,
   "metadata": {},
   "outputs": [
    {
     "name": "stdout",
     "output_type": "stream",
     "text": [
      "****************************************************************************************************\n",
      "Test with the output of layer: 1\n",
      "\n",
      "Test task 0: Accuracy: 509/1000 (50.90%)\n",
      "Test task 1: Accuracy: 446/1000 (44.60%)\n",
      "Test task 2: Accuracy: 504/1000 (50.40%)\n",
      "Test task 3: Accuracy: 417/1000 (41.70%)\n",
      "Test task 4: Accuracy: 481/1000 (48.10%)\n",
      "Test task 5: Accuracy: 525/1000 (52.50%)\n",
      "Test task 6: Accuracy: 473/1000 (47.30%)\n",
      "Test task 7: Accuracy: 484/1000 (48.40%)\n",
      "Test task 8: Accuracy: 503/1000 (50.30%)\n",
      "Test task 9: Accuracy: 495/1000 (49.50%)\n",
      "tasks acc:[50.90000153 44.59999847 50.40000153 41.70000076 48.09999847 52.5\n",
      " 47.29999924 48.40000153 50.29999924 49.5       ]\n",
      "tasks avg acc:48.37000007629395\n",
      "****************************************************************************************************\n",
      "Test with the output of layer: 2\n",
      "\n",
      "Test task 0: Accuracy: 487/1000 (48.70%)\n",
      "Test task 1: Accuracy: 477/1000 (47.70%)\n",
      "Test task 2: Accuracy: 552/1000 (55.20%)\n",
      "Test task 3: Accuracy: 434/1000 (43.40%)\n",
      "Test task 4: Accuracy: 518/1000 (51.80%)\n",
      "Test task 5: Accuracy: 532/1000 (53.20%)\n",
      "Test task 6: Accuracy: 486/1000 (48.60%)\n",
      "Test task 7: Accuracy: 485/1000 (48.50%)\n",
      "Test task 8: Accuracy: 521/1000 (52.10%)\n",
      "Test task 9: Accuracy: 531/1000 (53.10%)\n",
      "tasks acc:[48.70000076 47.70000076 55.20000076 43.40000153 51.79999924 53.20000076\n",
      " 48.59999847 48.5        52.09999847 53.09999847]\n",
      "tasks avg acc:50.22999992370605\n",
      "****************************************************************************************************\n",
      "Test with the output of layer: 3\n",
      "\n",
      "Test task 0: Accuracy: 495/1000 (49.50%)\n",
      "Test task 1: Accuracy: 454/1000 (45.40%)\n",
      "Test task 2: Accuracy: 528/1000 (52.80%)\n",
      "Test task 3: Accuracy: 428/1000 (42.80%)\n",
      "Test task 4: Accuracy: 496/1000 (49.60%)\n",
      "Test task 5: Accuracy: 543/1000 (54.30%)\n",
      "Test task 6: Accuracy: 497/1000 (49.70%)\n",
      "Test task 7: Accuracy: 528/1000 (52.80%)\n",
      "Test task 8: Accuracy: 570/1000 (57.00%)\n",
      "Test task 9: Accuracy: 598/1000 (59.80%)\n",
      "tasks acc:[49.5        45.40000153 52.79999924 42.79999924 49.59999847 54.29999924\n",
      " 49.70000076 52.79999924 57.         59.79999924]\n",
      "tasks avg acc:51.369999694824216\n",
      "****************************************************************************************************\n",
      "Test with the output of layer: 4\n",
      "\n",
      "Test task 0: Accuracy: 485/1000 (48.50%)\n",
      "Test task 1: Accuracy: 432/1000 (43.20%)\n",
      "Test task 2: Accuracy: 526/1000 (52.60%)\n",
      "Test task 3: Accuracy: 402/1000 (40.20%)\n",
      "Test task 4: Accuracy: 457/1000 (45.70%)\n",
      "Test task 5: Accuracy: 535/1000 (53.50%)\n",
      "Test task 6: Accuracy: 458/1000 (45.80%)\n",
      "Test task 7: Accuracy: 506/1000 (50.60%)\n",
      "Test task 8: Accuracy: 564/1000 (56.40%)\n",
      "Test task 9: Accuracy: 627/1000 (62.70%)\n",
      "tasks acc:[48.5        43.20000076 52.59999847 40.20000076 45.70000076 53.5\n",
      " 45.79999924 50.59999847 56.40000153 62.70000076]\n",
      "tasks avg acc:49.920000076293945\n"
     ]
    }
   ],
   "source": [
    "# get results of all layers\n",
    "acc_lists = test(agent, 9, task_loader, feat_ids=[0,1,2,3])"
   ]
  },
  {
   "cell_type": "code",
   "execution_count": 7,
   "metadata": {},
   "outputs": [],
   "source": [
    "with open('./outputs/acc_lists.txt', 'w') as f:\n",
    "    for acc_list in acc_lists:\n",
    "        for acc in acc_list:\n",
    "            f.write(f\"{acc:.2f}\\t\")\n",
    "        f.write('\\n')"
   ]
  },
  {
   "cell_type": "code",
   "execution_count": 8,
   "metadata": {},
   "outputs": [
    {
     "name": "stdout",
     "output_type": "stream",
     "text": [
      "(4, 10)\n",
      "[50.90000153 47.70000076 55.20000076 43.40000153 51.79999924 54.29999924\n",
      " 49.70000076 52.79999924 57.         62.70000076]\n",
      "52.55000038146973\n"
     ]
    }
   ],
   "source": [
    "acc_lists = np.array(acc_lists)\n",
    "print(acc_lists.shape)\n",
    "opt_acc_list = acc_lists.max(axis=0)\n",
    "print(opt_acc_list)\n",
    "print(opt_acc_list.mean())"
   ]
  },
  {
   "cell_type": "code",
   "execution_count": null,
   "metadata": {},
   "outputs": [],
   "source": [
    "agent.model.eval()\n",
    "class_means_ls = [{} for _ in range(4)]\n",
    "seen_classes = list(set(agent.buffer.y_int.tolist()))\n",
    "class_inputs = {cls: [] for cls in seen_classes}\n",
    "\n",
    "for x, y in zip(agent.buffer.x, agent.buffer.y_int):\n",
    "    class_inputs[y.item()].append(x)\n",
    "\n",
    "for cls, inputs in class_inputs.items():\n",
    "    features = [[] for _ in range(4)]\n",
    "    for ex in inputs:\n",
    "        features_ls = agent.model.features(ex.unsqueeze(0))\n",
    "        for feat_id in range(4):\n",
    "            feature = features_ls[feat_id].detach().clone()\n",
    "            feature = F.normalize(feature, dim=1)\n",
    "            features[feat_id].append(feature.squeeze())\n",
    "\n",
    "    for feat_id in range(4):\n",
    "        if len(features[feat_id]) == 0:\n",
    "            mu_y = torch.normal(\n",
    "                0, 1, size=tuple(agent.model.features(x.unsqueeze(0))[feat_id].detach().size())\n",
    "            )\n",
    "            mu_y = mu_y.to(x.device)\n",
    "        else:\n",
    "            features[feat_id] = torch.stack(features[feat_id])\n",
    "            mu_y = features[feat_id].mean(0)\n",
    "        \n",
    "        mu_y = F.normalize(mu_y.reshape(1, -1), dim=1)\n",
    "        class_means_ls[feat_id][cls] = mu_y.squeeze()\n"
   ]
  },
  {
   "cell_type": "code",
   "execution_count": null,
   "metadata": {},
   "outputs": [],
   "source": [
    "torch.save(class_means_ls, './outputs/class_means_ls.pt')"
   ]
  },
  {
   "cell_type": "code",
   "execution_count": 10,
   "metadata": {},
   "outputs": [],
   "source": [
    "class_means_ls = torch.load('./outputs/class_means_ls.pt')"
   ]
  },
  {
   "cell_type": "code",
   "execution_count": 19,
   "metadata": {},
   "outputs": [
    {
     "name": "stdout",
     "output_type": "stream",
     "text": [
      "\n",
      "Test with feature layer 0\n"
     ]
    },
    {
     "name": "stdout",
     "output_type": "stream",
     "text": [
      "Test task 0: Accuracy: 509/1000 (50.90%)\n",
      "Test task 1: Accuracy: 446/1000 (44.60%)\n",
      "Test task 2: Accuracy: 504/1000 (50.40%)\n",
      "Test task 3: Accuracy: 417/1000 (41.70%)\n",
      "Test task 4: Accuracy: 481/1000 (48.10%)\n",
      "Test task 5: Accuracy: 525/1000 (52.50%)\n",
      "Test task 6: Accuracy: 473/1000 (47.30%)\n",
      "Test task 7: Accuracy: 484/1000 (48.40%)\n",
      "Test task 8: Accuracy: 503/1000 (50.30%)\n",
      "Test task 9: Accuracy: 495/1000 (49.50%)\n",
      "Average End Accuracy: 48.37%\n",
      "\n",
      "Test with feature layer 1\n",
      "Test task 0: Accuracy: 487/1000 (48.70%)\n",
      "Test task 1: Accuracy: 477/1000 (47.70%)\n",
      "Test task 2: Accuracy: 552/1000 (55.20%)\n",
      "Test task 3: Accuracy: 434/1000 (43.40%)\n",
      "Test task 4: Accuracy: 518/1000 (51.80%)\n",
      "Test task 5: Accuracy: 532/1000 (53.20%)\n",
      "Test task 6: Accuracy: 486/1000 (48.60%)\n",
      "Test task 7: Accuracy: 485/1000 (48.50%)\n",
      "Test task 8: Accuracy: 521/1000 (52.10%)\n",
      "Test task 9: Accuracy: 531/1000 (53.10%)\n",
      "Average End Accuracy: 50.23%\n",
      "\n",
      "Test with feature layer 2\n",
      "Test task 0: Accuracy: 495/1000 (49.50%)\n",
      "Test task 1: Accuracy: 454/1000 (45.40%)\n",
      "Test task 2: Accuracy: 528/1000 (52.80%)\n",
      "Test task 3: Accuracy: 428/1000 (42.80%)\n",
      "Test task 4: Accuracy: 496/1000 (49.60%)\n",
      "Test task 5: Accuracy: 543/1000 (54.30%)\n",
      "Test task 6: Accuracy: 497/1000 (49.70%)\n",
      "Test task 7: Accuracy: 528/1000 (52.80%)\n",
      "Test task 8: Accuracy: 570/1000 (57.00%)\n",
      "Test task 9: Accuracy: 598/1000 (59.80%)\n",
      "Average End Accuracy: 51.37%\n",
      "\n",
      "Test with feature layer 3\n",
      "Test task 0: Accuracy: 485/1000 (48.50%)\n",
      "Test task 1: Accuracy: 432/1000 (43.20%)\n",
      "Test task 2: Accuracy: 526/1000 (52.60%)\n",
      "Test task 3: Accuracy: 402/1000 (40.20%)\n",
      "Test task 4: Accuracy: 457/1000 (45.70%)\n",
      "Test task 5: Accuracy: 535/1000 (53.50%)\n",
      "Test task 6: Accuracy: 458/1000 (45.80%)\n",
      "Test task 7: Accuracy: 506/1000 (50.60%)\n",
      "Test task 8: Accuracy: 564/1000 (56.40%)\n",
      "Test task 9: Accuracy: 627/1000 (62.70%)\n",
      "Average End Accuracy: 49.92%\n"
     ]
    }
   ],
   "source": [
    "# test ncm classifier\n",
    "seen_classes = list(set(agent.buffer.y_int.tolist()))\n",
    "agent.model.eval()\n",
    "for feat_id in range(4):\n",
    "    print(f\"\\nTest with feature layer {feat_id}\")\n",
    "    class_means = class_means_ls[feat_id]\n",
    "    with torch.no_grad():\n",
    "        acc_list = np.zeros(len(task_loader))\n",
    "        for j in range(10):\n",
    "            correct = torch.full([], 0).cuda()\n",
    "            num = torch.full([], 0).cuda()\n",
    "            for batch_idx, (data, target) in enumerate(task_loader[j]['test']):\n",
    "                data, target = data.cuda(), target.cuda()\n",
    "                features = agent.model.features(data)[feat_id]\n",
    "                features = F.normalize(features, dim=1)\n",
    "                features = features.unsqueeze(2)\n",
    "                means = torch.stack([class_means[cls] for cls in seen_classes])\n",
    "                means = torch.stack([means] * data.size(0))\n",
    "                means = means.transpose(1, 2)\n",
    "                features = features.expand_as(means)\n",
    "                dists = (features - means).pow(2).sum(1).squeeze()\n",
    "                pred = dists.min(1)[1]\n",
    "                pred = torch.Tensor(seen_classes)[pred].to(data.device)\n",
    "\n",
    "                num += data.size()[0]\n",
    "                correct += pred.eq(target.data.view_as(pred)).sum()\n",
    "\n",
    "            test_accuracy = (100. * correct / num)\n",
    "            acc_list[j] = test_accuracy\n",
    "            print('Test task {}: Accuracy: {}/{} ({:.2f}%)'.format(j, correct, num, test_accuracy))\n",
    "    print(f\"Average End Accuracy: {acc_list.mean():.2f}%\")"
   ]
  },
  {
   "cell_type": "code",
   "execution_count": 25,
   "metadata": {},
   "outputs": [
    {
     "name": "stdout",
     "output_type": "stream",
     "text": [
      "Test task 0: Accuracy: 510/1000 (51.00%)\n",
      "Test task 1: Accuracy: 475/1000 (47.50%)\n",
      "Test task 2: Accuracy: 556/1000 (55.60%)\n",
      "Test task 3: Accuracy: 441/1000 (44.10%)\n",
      "Test task 4: Accuracy: 517/1000 (51.70%)\n",
      "Test task 5: Accuracy: 561/1000 (56.10%)\n",
      "Test task 6: Accuracy: 520/1000 (52.00%)\n",
      "Test task 7: Accuracy: 538/1000 (53.80%)\n",
      "Test task 8: Accuracy: 601/1000 (60.10%)\n",
      "Test task 9: Accuracy: 623/1000 (62.30%)\n",
      "Average End Accuracy: 53.42%\n"
     ]
    }
   ],
   "source": [
    "# test ncm classifier\n",
    "seen_classes = list(set(agent.buffer.y_int.tolist()))\n",
    "agent.model.eval()\n",
    "with torch.no_grad():\n",
    "    acc_list = np.zeros(len(task_loader))\n",
    "    for j in range(10):\n",
    "        correct = torch.full([], 0).cuda()\n",
    "        num = torch.full([], 0).cuda()\n",
    "        for batch_idx, (data, target) in enumerate(task_loader[j]['test']):\n",
    "            data, target = data.cuda(), target.cuda()\n",
    "            features_ls = agent.model.features(data)\n",
    "            dists_ls = []\n",
    "            for feat_id in range(4):\n",
    "                class_means = class_means_ls[feat_id]\n",
    "                features = features_ls[feat_id]\n",
    "                features = F.normalize(features, dim=1)\n",
    "                features = features.unsqueeze(2)\n",
    "                means = torch.stack([class_means[cls] for cls in seen_classes])\n",
    "                means = torch.stack([means] * data.size(0))\n",
    "                means = means.transpose(1, 2)\n",
    "                features = features.expand_as(means)\n",
    "                dists = (features - means).pow(2).sum(1).squeeze()\n",
    "                dists_ls.append(dists)\n",
    "\n",
    "            dists_ls = torch.cat([dists.unsqueeze(1) for dists in dists_ls], dim=1)\n",
    "            dists = dists_ls.mean(dim=1).squeeze(1)\n",
    "            pred = dists.min(1)[1]\n",
    "            pred = torch.Tensor(seen_classes)[pred].to(data.device)\n",
    "            num += data.size()[0]\n",
    "            correct += pred.eq(target.data.view_as(pred)).sum()\n",
    "\n",
    "        test_accuracy = (100. * correct / num)\n",
    "        acc_list[j] = test_accuracy\n",
    "        print('Test task {}: Accuracy: {}/{} ({:.2f}%)'.format(j, correct, num, test_accuracy))\n",
    "print(f\"Average End Accuracy: {acc_list.mean():.2f}%\")"
   ]
  },
  {
   "cell_type": "code",
   "execution_count": null,
   "metadata": {},
   "outputs": [],
   "source": [
    "# test classifier output\n",
    "agent.model.eval()\n",
    "# for feat_id in range(4):\n",
    "with torch.no_grad():\n",
    "    acc_list = np.zeros(len(task_loader))\n",
    "    for j in range(9 + 1):\n",
    "        correct = torch.full([], 0).cuda()\n",
    "        num = torch.full([], 0).cuda()\n",
    "        for batch_idx, (data, target) in enumerate(task_loader[j]['test']):\n",
    "            data, target = data.cuda(), target.cuda()\n",
    "            # pred = agent.model(data)[feat_id]\n",
    "            pred = agent.model(data)\n",
    "            pred = torch.stack(pred, dim=1)\n",
    "            pred = pred.mean(dim=1).squeeze()\n",
    "            Pred = pred.data.max(1, keepdim=True)[1]\n",
    "            num += data.size()[0]\n",
    "            correct += Pred.eq(target.data.view_as(Pred)).sum()\n",
    "\n",
    "        test_accuracy = (100. * correct / num)\n",
    "        print('Test task {}: Accuracy: {}/{} ({:.2f}%)'.format(j, correct, num, test_accuracy))\n",
    "\n",
    "        acc_list[j] = test_accuracy.item()\n",
    "\n",
    "    print(f\"tasks acc:{acc_list}\")\n",
    "    print(f\"tasks avg acc:{acc_list[:9+1].mean()}\")"
   ]
  },
  {
   "cell_type": "markdown",
   "metadata": {},
   "source": [
    "## GSA ce loss modification"
   ]
  },
  {
   "cell_type": "code",
   "execution_count": 1,
   "metadata": {},
   "outputs": [],
   "source": [
    "import torch\n",
    "import torch.nn.functional as F"
   ]
  },
  {
   "cell_type": "code",
   "execution_count": 3,
   "metadata": {},
   "outputs": [
    {
     "name": "stdout",
     "output_type": "stream",
     "text": [
      "tensor(0.7230)\n"
     ]
    }
   ],
   "source": [
    "x = torch.randn(128, 100)\n",
    "y = torch.randn(128, 100)\n",
    "\n",
    "loss_func = torch.nn.SmoothL1Loss(reduction='mean', beta=1)\n",
    "print(loss_func(x, y))"
   ]
  },
  {
   "cell_type": "code",
   "execution_count": 4,
   "metadata": {},
   "outputs": [
    {
     "name": "stdout",
     "output_type": "stream",
     "text": [
      "tensor(160.2610)\n"
     ]
    }
   ],
   "source": [
    "print(torch.dist(x, y, p=2))"
   ]
  },
  {
   "cell_type": "code",
   "execution_count": 5,
   "metadata": {},
   "outputs": [
    {
     "name": "stdout",
     "output_type": "stream",
     "text": [
      "tensor(2.0065)\n"
     ]
    }
   ],
   "source": [
    "mse = torch.nn.MSELoss(reduction='mean')\n",
    "print(mse(x,y))"
   ]
  },
  {
   "cell_type": "markdown",
   "metadata": {},
   "source": [
    "## Test `wandb.Table`"
   ]
  },
  {
   "cell_type": "code",
   "execution_count": 1,
   "metadata": {},
   "outputs": [
    {
     "name": "stderr",
     "output_type": "stream",
     "text": [
      "Failed to detect the name of this notebook, you can set it manually with the WANDB_NOTEBOOK_NAME environment variable to enable code saving.\n",
      "\u001b[34m\u001b[1mwandb\u001b[0m: Currently logged in as: \u001b[33m994164148\u001b[0m. Use \u001b[1m`wandb login --relogin`\u001b[0m to force relogin\n"
     ]
    },
    {
     "data": {
      "application/vnd.jupyter.widget-view+json": {
       "model_id": "9106705b022d429b961712654e6d4dd0",
       "version_major": 2,
       "version_minor": 0
      },
      "text/plain": [
       "VBox(children=(Label(value='Waiting for wandb.init()...\\r'), FloatProgress(value=0.011113362262646358, max=1.0…"
      ]
     },
     "metadata": {},
     "output_type": "display_data"
    },
    {
     "data": {
      "text/html": [
       "Tracking run with wandb version 0.16.0"
      ],
      "text/plain": [
       "<IPython.core.display.HTML object>"
      ]
     },
     "metadata": {},
     "output_type": "display_data"
    },
    {
     "data": {
      "text/html": [
       "Run data is saved locally in <code>/home/hongwei/MOSE/wandb/run-20231110_000135-3futduzx</code>"
      ],
      "text/plain": [
       "<IPython.core.display.HTML object>"
      ]
     },
     "metadata": {},
     "output_type": "display_data"
    },
    {
     "data": {
      "text/html": [
       "Syncing run <strong><a href='https://wandb.ai/994164148/mose/runs/3futduzx' target=\"_blank\">test wandb</a></strong> to <a href='https://wandb.ai/994164148/mose' target=\"_blank\">Weights & Biases</a> (<a href='https://wandb.me/run' target=\"_blank\">docs</a>)<br/>"
      ],
      "text/plain": [
       "<IPython.core.display.HTML object>"
      ]
     },
     "metadata": {},
     "output_type": "display_data"
    },
    {
     "data": {
      "text/html": [
       " View project at <a href='https://wandb.ai/994164148/mose' target=\"_blank\">https://wandb.ai/994164148/mose</a>"
      ],
      "text/plain": [
       "<IPython.core.display.HTML object>"
      ]
     },
     "metadata": {},
     "output_type": "display_data"
    },
    {
     "data": {
      "text/html": [
       " View run at <a href='https://wandb.ai/994164148/mose/runs/3futduzx' target=\"_blank\">https://wandb.ai/994164148/mose/runs/3futduzx</a>"
      ],
      "text/plain": [
       "<IPython.core.display.HTML object>"
      ]
     },
     "metadata": {},
     "output_type": "display_data"
    },
    {
     "data": {
      "text/html": [
       "<button onClick=\"this.nextSibling.style.display='block';this.style.display='none';\">Display W&B run</button><iframe src='https://wandb.ai/994164148/mose/runs/3futduzx?jupyter=true' style='border:none;width:100%;height:420px;display:none;'></iframe>"
      ],
      "text/plain": [
       "<wandb.sdk.wandb_run.Run at 0x7fe3689ead50>"
      ]
     },
     "execution_count": 1,
     "metadata": {},
     "output_type": "execute_result"
    }
   ],
   "source": [
    "import wandb\n",
    "import numpy as np\n",
    "import pandas as pd\n",
    "\n",
    "wandb.init(project='mose', entity='994164148', name='test wandb')\n",
    "\n",
    "# accs_list = np.ones((10, 10))\n",
    "# num_tasks, _ = accs_list.shape\n",
    "# col_name = [f\"task{i}\" for i in range(num_tasks)]\n",
    "# # accs_table = pd.DataFrame(accs_list, columns=col_name, index=np.array(col_name))\n",
    "# accs_table = pd.DataFrame(accs_list)\n",
    "# wandb.log({'test tab;e': wandb.Table(dataframe=accs_table, columns=col_name, rows=col_name)}, commit=False)\n",
    "# print(accs_table)\n",
    "# wandb.Table(columns=[\"a\", \"b\", \"c\"], data=[[\"1a\", \"1b\", \"1c\"], [\"2a\", \"2b\", \"2c\"]])\n",
    "wandb.log({'test log': 20.0}, 1)"
   ]
  },
  {
   "cell_type": "markdown",
   "metadata": {},
   "source": [
    "## Visualization"
   ]
  },
  {
   "cell_type": "code",
   "execution_count": 1,
   "metadata": {},
   "outputs": [
    {
     "name": "stdout",
     "output_type": "stream",
     "text": [
      "17\n"
     ]
    }
   ],
   "source": [
    "import os\n",
    "import pandas as pd\n",
    "\n",
    "base_dir = './outputs'\n",
    "folders = []\n",
    "csv_file_paths = []\n",
    "\n",
    "for root, _, files in os.walk(base_dir, followlinks=True):\n",
    "    for file in files:\n",
    "        if file == 'task_accs_table.csv' and 'epoch' in root:\n",
    "            folders.append(root)\n",
    "            csv_file_path = os.path.join(root, file)\n",
    "            csv_file_paths.append(csv_file_path)\n",
    "\n",
    "print(len(csv_file_paths))"
   ]
  },
  {
   "cell_type": "code",
   "execution_count": 2,
   "metadata": {},
   "outputs": [
    {
     "name": "stdout",
     "output_type": "stream",
     "text": [
      "./outputs/er none | cifar100 | 1k | epoch3 run_00_684/task_accs_table.csv\n",
      "./outputs/scr ocm | cifar100 | 1k | epoch2 run_00_684/task_accs_table.csv\n",
      "./outputs/scr ocm | cifar100 | 1k | epoch1 run_00_684/task_accs_table.csv\n",
      "./outputs/mose | cifar100 | 1k | epoch1 run_00_684/task_accs_table.csv\n",
      "./outputs/er ocm | cifar100 | 1k | epoch1 run_00_684/task_accs_table.csv\n",
      "./outputs/er ocm | cifar100 | 1k | epoch5 run_00_684/task_accs_table.csv\n",
      "./outputs/er none | cifar100 | 1k | epoch1 run_00_684/task_accs_table.csv\n",
      "./outputs/er none | cifar100 | 1k | epoch4 run_00_684/task_accs_table.csv\n",
      "./outputs/scr ocm | cifar100 | 1k | epoch4 run_00_684/task_accs_table.csv\n",
      "./outputs/er ocm | cifar100 | 1k | epoch2 run_00_684/task_accs_table.csv\n",
      "./outputs/er ocm | cifar100 | 1k | epoch4 run_00_684/task_accs_table.csv\n",
      "./outputs/er ocm | cifar100 | 1k | epoch3 run_00_684/task_accs_table.csv\n",
      "./outputs/er none | cifar100 | 1k | epoch5 run_00_684/task_accs_table.csv\n",
      "./outputs/scr ocm | cifar100 | 1k | epoch3 run_00_684/task_accs_table.csv\n",
      "./outputs/mose | cifar100 | 1k | epoch2 run_00_684/task_accs_table.csv\n",
      "./outputs/er none | cifar100 | 1k | epoch2 run_00_684/task_accs_table.csv\n",
      "./outputs/scr ocm | cifar100 | 1k | epoch5 run_00_684/task_accs_table.csv\n"
     ]
    }
   ],
   "source": [
    "for i in csv_file_paths:\n",
    "    print(i)"
   ]
  },
  {
   "cell_type": "code",
   "execution_count": 7,
   "metadata": {},
   "outputs": [
    {
     "name": "stdout",
     "output_type": "stream",
     "text": [
      "./outputs/er none | cifar100 | 1k | epoch3 run_00_684\n",
      "./outputs/scr ocm | cifar100 | 1k | epoch2 run_00_684\n",
      "./outputs/scr ocm | cifar100 | 1k | epoch1 run_00_684\n",
      "./outputs/mose | cifar100 | 1k | epoch1 run_00_684\n",
      "./outputs/er ocm | cifar100 | 1k | epoch1 run_00_684\n",
      "./outputs/er ocm | cifar100 | 1k | epoch5 run_00_684\n",
      "./outputs/er none | cifar100 | 1k | epoch1 run_00_684\n",
      "./outputs/er none | cifar100 | 1k | epoch4 run_00_684\n",
      "./outputs/scr ocm | cifar100 | 1k | epoch4 run_00_684\n",
      "./outputs/er ocm | cifar100 | 1k | epoch2 run_00_684\n",
      "./outputs/er ocm | cifar100 | 1k | epoch4 run_00_684\n",
      "./outputs/er ocm | cifar100 | 1k | epoch3 run_00_684\n",
      "./outputs/er none | cifar100 | 1k | epoch5 run_00_684\n",
      "./outputs/scr ocm | cifar100 | 1k | epoch3 run_00_684\n",
      "./outputs/mose | cifar100 | 1k | epoch2 run_00_684\n",
      "./outputs/er none | cifar100 | 1k | epoch2 run_00_684\n",
      "./outputs/scr ocm | cifar100 | 1k | epoch5 run_00_684\n"
     ]
    }
   ],
   "source": [
    "for i in folders:\n",
    "    print(i)"
   ]
  },
  {
   "cell_type": "code",
   "execution_count": 16,
   "metadata": {},
   "outputs": [
    {
     "name": "stdout",
     "output_type": "stream",
     "text": [
      "./outputs/er ocm | cifar100 | 1k | epoch1 run_00_684 ./outputs/er ocm | cifar100 | 1k | epoch1 run_00_684/task_accs_table.csv\n",
      "./outputs/er ocm | cifar100 | 1k | epoch2 run_00_684 ./outputs/er ocm | cifar100 | 1k | epoch2 run_00_684/task_accs_table.csv\n",
      "./outputs/er ocm | cifar100 | 1k | epoch3 run_00_684 ./outputs/er ocm | cifar100 | 1k | epoch3 run_00_684/task_accs_table.csv\n",
      "./outputs/er ocm | cifar100 | 1k | epoch4 run_00_684 ./outputs/er ocm | cifar100 | 1k | epoch4 run_00_684/task_accs_table.csv\n",
      "./outputs/er ocm | cifar100 | 1k | epoch5 run_00_684 ./outputs/er ocm | cifar100 | 1k | epoch5 run_00_684/task_accs_table.csv\n",
      "./outputs/er none | cifar100 | 1k | epoch1 run_00_684 ./outputs/er none | cifar100 | 1k | epoch1 run_00_684/task_accs_table.csv\n",
      "./outputs/er none | cifar100 | 1k | epoch2 run_00_684 ./outputs/er none | cifar100 | 1k | epoch2 run_00_684/task_accs_table.csv\n",
      "./outputs/er none | cifar100 | 1k | epoch3 run_00_684 ./outputs/er none | cifar100 | 1k | epoch3 run_00_684/task_accs_table.csv\n",
      "./outputs/er none | cifar100 | 1k | epoch4 run_00_684 ./outputs/er none | cifar100 | 1k | epoch4 run_00_684/task_accs_table.csv\n",
      "./outputs/er none | cifar100 | 1k | epoch5 run_00_684 ./outputs/er none | cifar100 | 1k | epoch5 run_00_684/task_accs_table.csv\n"
     ]
    }
   ],
   "source": [
    "# method, augmentation, epoch\n",
    "er_data = {}\n",
    "all_augmentation = ['ocm', 'none']\n",
    "all_epoch = [f'epoch{i+1}' for i in range(5)]\n",
    "\n",
    "method = 'er'\n",
    "\n",
    "for aug in all_augmentation:\n",
    "    er_data[aug] = {}\n",
    "    for epoch in all_epoch:\n",
    "        er_data[aug][epoch] = None \n",
    "        for folder, csv_file_path in zip(folders, csv_file_paths):\n",
    "            if method in folder and aug in folder and epoch in folder:\n",
    "                print(folder, csv_file_path)\n",
    "                df = pd.read_csv(csv_file_path)\n",
    "                er_data[aug][epoch] = df"
   ]
  },
  {
   "cell_type": "code",
   "execution_count": 17,
   "metadata": {},
   "outputs": [
    {
     "name": "stdout",
     "output_type": "stream",
     "text": [
      "  Unnamed: 0      task0      task1      task2  task3      task4      task5  \\\n",
      "0      task0  50.700001   0.000000   0.000000    0.0   0.000000   0.000000   \n",
      "1      task1  17.000000  39.500000   0.000000    0.0   0.000000   0.000000   \n",
      "2      task2  12.000000  12.700000  54.799999    0.0   0.000000   0.000000   \n",
      "3      task3  16.100000  14.700000  29.500000   52.5   0.000000   0.000000   \n",
      "4      task4  16.799999  16.900000  32.700001   23.1  48.299999   0.000000   \n",
      "5      task5  22.600000  18.200001  28.600000   20.5  23.600000  52.000000   \n",
      "6      task6   9.400000  13.600000  23.900000   10.9  20.100000  24.000000   \n",
      "7      task7  13.100000  16.100000  17.299999   14.7  17.200001  26.799999   \n",
      "8      task8  13.000000  14.600000  25.400000   21.0  20.299999  24.400000   \n",
      "9      task9  12.500000   9.400000  24.799999   10.6  18.100000  20.900000   \n",
      "\n",
      "       task6      task7      task8      task9  \n",
      "0   0.000000   0.000000   0.000000   0.000000  \n",
      "1   0.000000   0.000000   0.000000   0.000000  \n",
      "2   0.000000   0.000000   0.000000   0.000000  \n",
      "3   0.000000   0.000000   0.000000   0.000000  \n",
      "4   0.000000   0.000000   0.000000   0.000000  \n",
      "5   0.000000   0.000000   0.000000   0.000000  \n",
      "6  59.700001   0.000000   0.000000   0.000000  \n",
      "7  23.299999  49.400002   0.000000   0.000000  \n",
      "8  28.700001  23.900000  45.900002   0.000000  \n",
      "9  21.900000  20.299999  18.600000  60.400002  \n"
     ]
    }
   ],
   "source": [
    "print(er_data['ocm']['epoch1'])"
   ]
  },
  {
   "cell_type": "code",
   "execution_count": 15,
   "metadata": {},
   "outputs": [
    {
     "name": "stdout",
     "output_type": "stream",
     "text": [
      "./outputs/scr ocm | cifar100 | 1k | epoch1 run_00_684 ./outputs/scr ocm | cifar100 | 1k | epoch1 run_00_684/task_accs_table.csv\n",
      "./outputs/scr ocm | cifar100 | 1k | epoch2 run_00_684 ./outputs/scr ocm | cifar100 | 1k | epoch2 run_00_684/task_accs_table.csv\n",
      "./outputs/scr ocm | cifar100 | 1k | epoch3 run_00_684 ./outputs/scr ocm | cifar100 | 1k | epoch3 run_00_684/task_accs_table.csv\n",
      "./outputs/scr ocm | cifar100 | 1k | epoch4 run_00_684 ./outputs/scr ocm | cifar100 | 1k | epoch4 run_00_684/task_accs_table.csv\n",
      "./outputs/scr ocm | cifar100 | 1k | epoch5 run_00_684 ./outputs/scr ocm | cifar100 | 1k | epoch5 run_00_684/task_accs_table.csv\n"
     ]
    }
   ],
   "source": [
    "# method, augmentation, epoch\n",
    "scr_data = {}\n",
    "all_augmentation = ['ocm']\n",
    "all_epoch = [f'epoch{i+1}' for i in range(5)]\n",
    "\n",
    "method = 'scr'\n",
    "\n",
    "for aug in all_augmentation:\n",
    "    scr_data[aug] = {}\n",
    "    for epoch in all_epoch:\n",
    "        scr_data[aug][epoch] = None \n",
    "        for folder, csv_file_path in zip(folders, csv_file_paths):\n",
    "            if method in folder and aug in folder and epoch in folder:\n",
    "                print(folder, csv_file_path)\n",
    "                df = pd.read_csv(csv_file_path)\n",
    "                scr_data[aug][epoch] = df"
   ]
  },
  {
   "cell_type": "code",
   "execution_count": 18,
   "metadata": {},
   "outputs": [
    {
     "name": "stdout",
     "output_type": "stream",
     "text": [
      "  Unnamed: 0      task0      task1      task2      task3      task4  \\\n",
      "0      task0  50.799999   0.000000   0.000000   0.000000   0.000000   \n",
      "1      task1  45.700001  42.900002   0.000000   0.000000   0.000000   \n",
      "2      task2  41.599998  42.299999  52.799999   0.000000   0.000000   \n",
      "3      task3  35.599998  30.799999  43.500000  49.200001   0.000000   \n",
      "4      task4  31.400000  35.000000  39.799999  35.099998  52.799999   \n",
      "5      task5  26.700001  23.200001  34.900002  28.000000  32.900002   \n",
      "6      task6  21.299999  25.100000  26.500000  24.700001  26.000000   \n",
      "7      task7  19.500000  23.299999  29.299999  22.900000  22.200001   \n",
      "8      task8  18.000000  14.800000  24.400000  15.000000  18.100000   \n",
      "9      task9  17.900000  12.900000  25.000000  15.700000  13.700000   \n",
      "\n",
      "       task5  task6      task7      task8      task9  \n",
      "0   0.000000    0.0   0.000000   0.000000   0.000000  \n",
      "1   0.000000    0.0   0.000000   0.000000   0.000000  \n",
      "2   0.000000    0.0   0.000000   0.000000   0.000000  \n",
      "3   0.000000    0.0   0.000000   0.000000   0.000000  \n",
      "4   0.000000    0.0   0.000000   0.000000   0.000000  \n",
      "5  58.000000    0.0   0.000000   0.000000   0.000000  \n",
      "6  40.500000   56.5   0.000000   0.000000   0.000000  \n",
      "7  31.700001   31.1  56.099998   0.000000   0.000000  \n",
      "8  28.400000   27.0  31.299999  61.799999   0.000000  \n",
      "9  26.299999   23.6  24.500000  34.000000  59.400002  \n"
     ]
    }
   ],
   "source": [
    "print(scr_data['ocm']['epoch1'])"
   ]
  },
  {
   "cell_type": "code",
   "execution_count": 19,
   "metadata": {},
   "outputs": [
    {
     "name": "stdout",
     "output_type": "stream",
     "text": [
      "./outputs/mose | cifar100 | 1k | epoch1 run_00_684 ./outputs/mose | cifar100 | 1k | epoch1 run_00_684/task_accs_table.csv\n",
      "./outputs/mose | cifar100 | 1k | epoch2 run_00_684 ./outputs/mose | cifar100 | 1k | epoch2 run_00_684/task_accs_table.csv\n"
     ]
    }
   ],
   "source": [
    "# method, augmentation, epoch\n",
    "mose_data = {}\n",
    "all_epoch = [f'epoch{i+1}' for i in range(2)]\n",
    "\n",
    "method = 'mose'\n",
    "aug = 'ocm'\n",
    "\n",
    "mose_data[aug] = {}\n",
    "for epoch in all_epoch:\n",
    "    mose_data[aug][epoch] = None \n",
    "    for folder, csv_file_path in zip(folders, csv_file_paths):\n",
    "        if method in folder and epoch in folder:\n",
    "            print(folder, csv_file_path)\n",
    "            df = pd.read_csv(csv_file_path)\n",
    "            mose_data[aug][epoch] = df"
   ]
  },
  {
   "cell_type": "code",
   "execution_count": 20,
   "metadata": {},
   "outputs": [
    {
     "name": "stdout",
     "output_type": "stream",
     "text": [
      "  Unnamed: 0      task0      task1      task2      task3      task4  \\\n",
      "0      task0  74.699997   0.000000   0.000000   0.000000   0.000000   \n",
      "1      task1  59.700001  70.300003   0.000000   0.000000   0.000000   \n",
      "2      task2  50.599998  57.700001  72.800003   0.000000   0.000000   \n",
      "3      task3  48.099998  46.200001  57.900002  67.699997   0.000000   \n",
      "4      task4  43.200001  46.599998  51.599998  50.900002  70.699997   \n",
      "5      task5  37.700001  40.700001  48.599998  44.099998  49.000000   \n",
      "6      task6  33.500000  36.099998  42.200001  40.000000  42.000000   \n",
      "7      task7  31.600000  34.400002  37.099998  34.599998  36.200001   \n",
      "8      task8  28.600000  28.200001  37.099998  29.900000  31.799999   \n",
      "9      task9  25.299999  24.000000  32.400002  22.100000  24.600000   \n",
      "\n",
      "       task5      task6      task7      task8      task9  \n",
      "0   0.000000   0.000000   0.000000   0.000000   0.000000  \n",
      "1   0.000000   0.000000   0.000000   0.000000   0.000000  \n",
      "2   0.000000   0.000000   0.000000   0.000000   0.000000  \n",
      "3   0.000000   0.000000   0.000000   0.000000   0.000000  \n",
      "4   0.000000   0.000000   0.000000   0.000000   0.000000  \n",
      "5  69.099998   0.000000   0.000000   0.000000   0.000000  \n",
      "6  57.000000  72.599998   0.000000   0.000000   0.000000  \n",
      "7  48.900002  47.000000  71.699997   0.000000   0.000000  \n",
      "8  46.599998  47.400002  51.500000  75.000000   0.000000  \n",
      "9  39.500000  38.500000  43.700001  51.799999  67.400002  \n"
     ]
    }
   ],
   "source": [
    "print(mose_data['ocm']['epoch1'])"
   ]
  },
  {
   "cell_type": "code",
   "execution_count": 96,
   "metadata": {},
   "outputs": [],
   "source": [
    "import matplotlib.pyplot as plt\n",
    "import numpy as np\n",
    "import seaborn as sns\n",
    "\n",
    "plt.style.use('ggplot')"
   ]
  },
  {
   "cell_type": "code",
   "execution_count": 97,
   "metadata": {},
   "outputs": [
    {
     "name": "stdout",
     "output_type": "stream",
     "text": [
      "er: [29.399999618530277, 28.399999618530277, 24.799999237060547, 23.399999618530277, 16.5] [17.0, 28.399999618530277, 42.5, 47.70000076293945, 50.5]\n",
      "scr: [45.70000076293945, 52.20000076293945, 53.20000076293945, 57.79999923706055, 47.79999923706055]\n",
      "mose: [59.70000076293945, 62.400001525878906]\n"
     ]
    },
    {
     "data": {
      "image/png": "[encoded data removed]",
      "text/plain": [
       "<Figure size 640x480 with 1 Axes>"
      ]
     },
     "metadata": {},
     "output_type": "display_data"
    }
   ],
   "source": [
    "# error rate task0 @ task1 across 5 epochs\n",
    "\n",
    "test_task_name = 'task0'\n",
    "current_task_id = 1\n",
    "\n",
    "# er\n",
    "er_none, er_ocm = [], []\n",
    "all_epoch = [f'epoch{i+1}' for i in range(5)]\n",
    "for epoch in all_epoch:\n",
    "    none_df = er_data['none'][epoch]\n",
    "    er_none.append(none_df.iloc[current_task_id][test_task_name])\n",
    "\n",
    "    ocm_df = er_data['ocm'][epoch]\n",
    "    er_ocm.append(ocm_df.iloc[current_task_id][test_task_name])\n",
    "print('er:', er_none, er_ocm)\n",
    "\n",
    "# scr\n",
    "scr_ocm = []\n",
    "all_epoch = [f'epoch{i+1}' for i in range(5)]\n",
    "for epoch in all_epoch:\n",
    "    scr_ocm_df = scr_data['ocm'][epoch]\n",
    "    scr_ocm.append(scr_ocm_df.iloc[current_task_id][test_task_name])\n",
    "\n",
    "print('scr:', scr_ocm)\n",
    "\n",
    "# mose\n",
    "mose_ocm = []\n",
    "all_epoch = [f'epoch{i+1}' for i in range(2)]\n",
    "for epoch in all_epoch:\n",
    "    mose_ocm_df = mose_data['ocm'][epoch]\n",
    "    mose_ocm.append(mose_ocm_df.iloc[current_task_id][test_task_name])\n",
    "\n",
    "print('mose:', mose_ocm)\n",
    "\n",
    "x = np.arange(1, 6)\n",
    "\n",
    "figure = plt.figure()\n",
    "plt.plot(x, er_none, label='er')\n",
    "plt.plot(x, er_ocm,  label='er + augmentation')\n",
    "plt.plot(x, scr_ocm, label='scr + augmentation')\n",
    "plt.plot(x[:2], mose_ocm, label='mose + augmentation')\n",
    "\n",
    "plt.xlabel('epoch')\n",
    "plt.xticks(x)\n",
    "plt.ylabel('accuracy (%)')\n",
    "plt.title('task 0 test accuracy after task 1')\n",
    "plt.legend(loc='best', fontsize=8)\n",
    "plt.show()"
   ]
  },
  {
   "cell_type": "code",
   "execution_count": 98,
   "metadata": {},
   "outputs": [
    {
     "name": "stdout",
     "output_type": "stream",
     "text": [
      "er: [57.5, 67.19999694824219, 66.0999984741211, 67.5, 67.9000015258789] [50.70000076293945, 57.900001525878906, 62.70000076293945, 70.0999984741211, 76.9000015258789]\n",
      "scr: [50.79999923706055, 69.69999694824219, 70.0, 75.4000015258789, 77.5999984741211]\n",
      "mose: [74.69999694824219, 80.4000015258789]\n"
     ]
    },
    {
     "data": {
      "image/png": "[encoded data removed]",
      "text/plain": [
       "<Figure size 640x480 with 1 Axes>"
      ]
     },
     "metadata": {},
     "output_type": "display_data"
    }
   ],
   "source": [
    "# error rate task0 @ task1 across 5 epochs\n",
    "\n",
    "test_task_name = 'task0'\n",
    "current_task_id = 0\n",
    "\n",
    "# er\n",
    "er_none, er_ocm = [], []\n",
    "all_epoch = [f'epoch{i+1}' for i in range(5)]\n",
    "for epoch in all_epoch:\n",
    "    none_df = er_data['none'][epoch]\n",
    "    er_none.append(none_df.iloc[current_task_id][test_task_name])\n",
    "\n",
    "    ocm_df = er_data['ocm'][epoch]\n",
    "    er_ocm.append(ocm_df.iloc[current_task_id][test_task_name])\n",
    "print('er:', er_none, er_ocm)\n",
    "\n",
    "# scr\n",
    "scr_ocm = []\n",
    "all_epoch = [f'epoch{i+1}' for i in range(5)]\n",
    "for epoch in all_epoch:\n",
    "    scr_ocm_df = scr_data['ocm'][epoch]\n",
    "    scr_ocm.append(scr_ocm_df.iloc[current_task_id][test_task_name])\n",
    "\n",
    "print('scr:', scr_ocm)\n",
    "\n",
    "# mose\n",
    "mose_ocm = []\n",
    "all_epoch = [f'epoch{i+1}' for i in range(2)]\n",
    "for epoch in all_epoch:\n",
    "    mose_ocm_df = mose_data['ocm'][epoch]\n",
    "    mose_ocm.append(mose_ocm_df.iloc[current_task_id][test_task_name])\n",
    "\n",
    "print('mose:', mose_ocm)\n",
    "\n",
    "x = np.arange(1, 6)\n",
    "\n",
    "figure = plt.figure()\n",
    "plt.plot(x, er_none, label='er')\n",
    "plt.plot(x, er_ocm,  label='er + augmentation')\n",
    "plt.plot(x, scr_ocm, label='scr + augmentation')\n",
    "plt.plot(x[:2], mose_ocm, label='mose + augmentation')\n",
    "\n",
    "plt.xlabel('epoch')\n",
    "plt.xticks(x)\n",
    "plt.ylabel('accuracy (%)')\n",
    "plt.title('task 0 test accuracy after task 0')\n",
    "plt.legend(loc='best', fontsize=8)\n",
    "plt.show()"
   ]
  },
  {
   "cell_type": "code",
   "execution_count": 99,
   "metadata": {},
   "outputs": [
    {
     "name": "stdout",
     "output_type": "stream",
     "text": [
      "er: [54.79999923706055, 61.29999923706055, 64.0, 64.4000015258789, 66.0999984741211] [39.5, 55.70000076293945, 64.4000015258789, 67.9000015258789, 68.19999694824219]\n",
      "scr: [42.900001525878906, 62.59999847412109, 69.5, 71.0999984741211, 76.30000305175781]\n",
      "mose: [70.30000305175781, 75.80000305175781]\n"
     ]
    },
    {
     "data": {
      "image/png": "[encoded data removed]",
      "text/plain": [
       "<Figure size 640x480 with 1 Axes>"
      ]
     },
     "metadata": {},
     "output_type": "display_data"
    }
   ],
   "source": [
    "# error rate task0 @ task1 across 5 epochs\n",
    "\n",
    "test_task_name = 'task1'\n",
    "current_task_id = 1\n",
    "\n",
    "# er\n",
    "er_none, er_ocm = [], []\n",
    "all_epoch = [f'epoch{i+1}' for i in range(5)]\n",
    "for epoch in all_epoch:\n",
    "    none_df = er_data['none'][epoch]\n",
    "    er_none.append(none_df.iloc[current_task_id][test_task_name])\n",
    "\n",
    "    ocm_df = er_data['ocm'][epoch]\n",
    "    er_ocm.append(ocm_df.iloc[current_task_id][test_task_name])\n",
    "print('er:', er_none, er_ocm)\n",
    "\n",
    "# scr\n",
    "scr_ocm = []\n",
    "all_epoch = [f'epoch{i+1}' for i in range(5)]\n",
    "for epoch in all_epoch:\n",
    "    scr_ocm_df = scr_data['ocm'][epoch]\n",
    "    scr_ocm.append(scr_ocm_df.iloc[current_task_id][test_task_name])\n",
    "\n",
    "print('scr:', scr_ocm)\n",
    "\n",
    "# mose\n",
    "mose_ocm = []\n",
    "all_epoch = [f'epoch{i+1}' for i in range(2)]\n",
    "for epoch in all_epoch:\n",
    "    mose_ocm_df = mose_data['ocm'][epoch]\n",
    "    mose_ocm.append(mose_ocm_df.iloc[current_task_id][test_task_name])\n",
    "\n",
    "print('mose:', mose_ocm)\n",
    "\n",
    "x = np.arange(1, 6)\n",
    "\n",
    "figure = plt.figure()\n",
    "plt.plot(x, er_none, label='er')\n",
    "plt.plot(x, er_ocm,  label='er + augmentation')\n",
    "plt.plot(x, scr_ocm, label='scr + augmentation')\n",
    "plt.plot(x[:2], mose_ocm, label='mose + augmentation')\n",
    "\n",
    "plt.xlabel('epoch')\n",
    "plt.xticks(x)\n",
    "plt.ylabel('accuracy (%)')\n",
    "plt.title('task 1 test accuracy after task 1')\n",
    "plt.legend(loc='best', fontsize=8)\n",
    "plt.show()"
   ]
  },
  {
   "cell_type": "code",
   "execution_count": 101,
   "metadata": {},
   "outputs": [
    {
     "name": "stdout",
     "output_type": "stream",
     "text": [
      "er: [42.09999942779541, 44.84999942779541, 44.39999961853027, 43.90000057220459, 41.29999923706055] [28.25, 42.05000019073486, 53.45000076293945, 57.80000114440918, 59.349998474121094]\n",
      "scr: [44.30000114440918, 57.39999961853027, 61.35000038146973, 64.44999885559082, 62.05000114440918]\n",
      "mose: [65.00000190734863, 69.10000228881836]\n"
     ]
    },
    {
     "data": {
      "image/png": "[encoded data removed]",
      "text/plain": [
       "<Figure size 640x480 with 1 Axes>"
      ]
     },
     "metadata": {},
     "output_type": "display_data"
    }
   ],
   "source": [
    "# error rate task0 @ task1 across 5 epochs\n",
    "\n",
    "test_task_name = 'task0'\n",
    "test_task_name_2 = 'task1'\n",
    "current_task_id = 1\n",
    "\n",
    "# er\n",
    "er_none, er_ocm = [], []\n",
    "all_epoch = [f'epoch{i+1}' for i in range(5)]\n",
    "for epoch in all_epoch:\n",
    "    none_df = er_data['none'][epoch]\n",
    "    er_none.append((none_df.iloc[current_task_id][test_task_name]+none_df.iloc[current_task_id][test_task_name_2])/2)\n",
    "\n",
    "    ocm_df = er_data['ocm'][epoch]\n",
    "    er_ocm.append((ocm_df.iloc[current_task_id][test_task_name]+ocm_df.iloc[current_task_id][test_task_name_2])/2)\n",
    "print('er:', er_none, er_ocm)\n",
    "\n",
    "# scr\n",
    "scr_ocm = []\n",
    "all_epoch = [f'epoch{i+1}' for i in range(5)]\n",
    "for epoch in all_epoch:\n",
    "    scr_ocm_df = scr_data['ocm'][epoch]\n",
    "    scr_ocm.append((scr_ocm_df.iloc[current_task_id][test_task_name]+scr_ocm_df.iloc[current_task_id][test_task_name_2])/2)\n",
    "\n",
    "print('scr:', scr_ocm)\n",
    "\n",
    "# mose\n",
    "mose_ocm = []\n",
    "all_epoch = [f'epoch{i+1}' for i in range(2)]\n",
    "for epoch in all_epoch:\n",
    "    mose_ocm_df = mose_data['ocm'][epoch]\n",
    "    mose_ocm.append((mose_ocm_df.iloc[current_task_id][test_task_name]+mose_ocm_df.iloc[current_task_id][test_task_name_2])/2)\n",
    "\n",
    "print('mose:', mose_ocm)\n",
    "\n",
    "x = np.arange(1, 6)\n",
    "\n",
    "figure = plt.figure()\n",
    "plt.plot(x, er_none, label='er')\n",
    "plt.plot(x, er_ocm,  label='er + augmentation')\n",
    "plt.plot(x, scr_ocm, label='scr + augmentation')\n",
    "plt.plot(x[:2], mose_ocm, label='mose + augmentation')\n",
    "\n",
    "plt.xlabel('epoch')\n",
    "plt.xticks(x)\n",
    "plt.ylabel('accuracy (%)')\n",
    "plt.title('average test accuracy after task 1')\n",
    "plt.legend(loc='best', fontsize=8)\n",
    "plt.show()"
   ]
  }
 ],
 "metadata": {
  "kernelspec": {
   "display_name": "nn",
   "language": "python",
   "name": "python3"
  },
  "language_info": {
   "codemirror_mode": {
    "name": "ipython",
    "version": 3
   },
   "file_extension": ".py",
   "mimetype": "text/x-python",
   "name": "python",
   "nbconvert_exporter": "python",
   "pygments_lexer": "ipython3",
   "version": "3.7.12"
  }
 },
 "nbformat": 4,
 "nbformat_minor": 2
}
