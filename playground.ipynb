{
 "cells": [
  {
   "cell_type": "markdown",
   "metadata": {},
   "source": [
    "# SGD playground"
   ]
  },
  {
   "cell_type": "code",
   "execution_count": 1,
   "metadata": {},
   "outputs": [],
   "source": [
    "import torch\n",
    "import torch.nn as nn\n",
    "import torch.nn.functional as F\n",
    "import numpy as np\n",
    "from info_nce import InfoNCE\n",
    "from losses.loss import sup_con_loss, sup_con_loss_no_norm, Supervised_NT_xent_n, Supervised_NT_xent_uni"
   ]
  },
  {
   "cell_type": "code",
   "execution_count": 2,
   "metadata": {},
   "outputs": [
    {
     "name": "stdout",
     "output_type": "stream",
     "text": [
      "\n",
      "temp: 0.07\n",
      "ce_loss: 30.826508\n",
      "ce_loss_norm: 4.605613\n",
      "infonce_loss: 0.745558\n",
      "sup_con: 1.485533\n",
      "sup_con_no_norm: nan\n",
      "nt_xent_pre: 4.605170\n",
      "\n",
      "temp: 0.1\n",
      "ce_loss: 22.824261\n",
      "ce_loss_norm: 4.605613\n",
      "infonce_loss: 0.851042\n",
      "sup_con: 1.493399\n",
      "sup_con_no_norm: nan\n",
      "nt_xent_pre: 4.605170\n",
      "\n",
      "temp: 1.0\n",
      "ce_loss: 5.051229\n",
      "ce_loss_norm: 4.605613\n",
      "infonce_loss: 1.310059\n",
      "sup_con: 1.860430\n",
      "sup_con_no_norm: 5.485090\n",
      "nt_xent_pre: 1.960001\n",
      "\n",
      "temp: 2.0\n",
      "ce_loss: 4.716408\n",
      "ce_loss_norm: 4.605613\n",
      "infonce_loss: 1.347467\n",
      "sup_con: 1.901785\n",
      "sup_con_no_norm: 2.880279\n",
      "nt_xent_pre: 1.006603\n",
      "\n",
      "temp: 3.0\n",
      "ce_loss: 4.654295\n",
      "ce_loss_norm: 4.605613\n",
      "infonce_loss: 1.360251\n",
      "sup_con: 1.916183\n",
      "sup_con_no_norm: 2.098509\n",
      "nt_xent_pre: 0.753990\n"
     ]
    }
   ],
   "source": [
    "def CrossEntropyDistill(outputs, targets, temp=3.0):\n",
    "    # targets = F.one_hot(targets, self.n_classes_num)\n",
    "    log_softmax_outputs = F.log_softmax(outputs/temp, dim=1)\n",
    "    softmax_targets = F.softmax(targets/temp, dim=1)\n",
    "    return -(log_softmax_outputs * softmax_targets).sum(dim=1).mean()\n",
    "\n",
    "def Supervised_NT_xent_pre(sim_matrix, labels, temperature=0.5, chunk=2, eps=1e-8, multi_gpu=False):\n",
    "    '''\n",
    "        Compute NT_xent loss\n",
    "        - sim_matrix: (B', B') tensor for B' = B * chunk (first 2B are pos samples)\n",
    "    '''\n",
    "\n",
    "    device = sim_matrix.device\n",
    "  #  labels1 = labels\n",
    "    labels1 = labels#.repeat(2)\n",
    "\n",
    "\n",
    "    logits_max, _ = torch.max(sim_matrix, dim=1, keepdim=True)\n",
    "\n",
    "    sim_matrix = sim_matrix - logits_max.detach()\n",
    "\n",
    "\n",
    "    B = sim_matrix.size(0) // chunk  # B = B' / chunk\n",
    "\n",
    "  #  eye = torch.eye(B * chunk).to(device)  # (B', B')\n",
    "    sim_matrix = torch.exp(sim_matrix / temperature) #* (1 - eye)  # remove diagonal\n",
    "\n",
    "    denom = torch.sum(sim_matrix, dim=1, keepdim=True)\n",
    "\n",
    "    sim_matrix = -torch.log(sim_matrix/(denom+eps)+eps)  # loss matrix\n",
    "\n",
    "    labels1 = labels1.contiguous().view(-1, 1)\n",
    "\n",
    "    Mask1 = torch.eq(labels1, labels1.t()).float().to(device)\n",
    "\n",
    "    Mask1 = Mask1 / (Mask1.sum(dim=1, keepdim=True) + eps)\n",
    "\n",
    "    return torch.sum(Mask1 * sim_matrix) / (2 * B)\n",
    "\n",
    "\n",
    "a = torch.randn(4, 100)\n",
    "b = torch.randn(4, 100)\n",
    "\n",
    "for temp in [0.07, 0.1, 1.0, 2.0, 3.0]:\n",
    "\n",
    "    infonce = InfoNCE(temperature=temp)\n",
    "    ce_loss = CrossEntropyDistill(a,b, temp)\n",
    "    ce_loss_norm = CrossEntropyDistill(F.normalize(a), F.normalize(b))\n",
    "    infonce_loss = infonce(a, b)\n",
    "\n",
    "    y = torch.arange(4)\n",
    "    sup_con = sup_con_loss(torch.cat((a,b)), temp, torch.cat((y,y)))\n",
    "    sup_con_no_norm = sup_con_loss_no_norm(torch.cat((a,b)), temp, torch.cat((y,y)))\n",
    "\n",
    "    sim_matrix = torch.matmul(a, b.t())\n",
    "    nt_xent_pre = Supervised_NT_xent_pre(sim_matrix, y, temp)\n",
    "\n",
    "    print(f\"\\ntemp: {temp}\")\n",
    "    print(f\"ce_loss: {ce_loss:.6f}\")\n",
    "    print(f\"ce_loss_norm: {ce_loss_norm:.6f}\")\n",
    "    print(f\"infonce_loss: {infonce_loss:.6f}\")\n",
    "    print(f\"sup_con: {sup_con:.6f}\")\n",
    "    print(f\"sup_con_no_norm: {sup_con_no_norm:.6f}\")\n",
    "    print(f\"nt_xent_pre: {nt_xent_pre:.6f}\")\n"
   ]
  },
  {
   "cell_type": "code",
   "execution_count": 3,
   "metadata": {},
   "outputs": [
    {
     "name": "stdout",
     "output_type": "stream",
     "text": [
      "\n",
      "temp: 0.07\n",
      "ce_loss: 30.826508\n",
      "ce_loss_norm: 4.605613\n",
      "infonce_loss: 0.745558\n",
      "sup_con: 1.485533\n",
      "sup_con_no_norm: nan\n",
      "nt_xent_pre: 4.605170\n",
      "\n",
      "temp: 0.1\n",
      "ce_loss: 22.824261\n",
      "ce_loss_norm: 4.605613\n",
      "infonce_loss: 0.851042\n",
      "sup_con: 1.493399\n",
      "sup_con_no_norm: nan\n",
      "nt_xent_pre: 4.605170\n",
      "\n",
      "temp: 1.0\n",
      "ce_loss: 5.051229\n",
      "ce_loss_norm: 4.605613\n",
      "infonce_loss: 1.310059\n",
      "sup_con: 1.860430\n",
      "sup_con_no_norm: 5.485090\n",
      "nt_xent_pre: 1.960001\n",
      "\n",
      "temp: 2.0\n",
      "ce_loss: 4.716408\n",
      "ce_loss_norm: 4.605613\n",
      "infonce_loss: 1.347467\n",
      "sup_con: 1.901785\n",
      "sup_con_no_norm: 2.880279\n",
      "nt_xent_pre: 1.006603\n",
      "\n",
      "temp: 3.0\n",
      "ce_loss: 4.654295\n",
      "ce_loss_norm: 4.605613\n",
      "infonce_loss: 1.360251\n",
      "sup_con: 1.916183\n",
      "sup_con_no_norm: 2.098509\n",
      "nt_xent_pre: 0.753990\n"
     ]
    }
   ],
   "source": [
    "for temp in [0.07, 0.1, 1.0, 2.0, 3.0]:\n",
    "\n",
    "    infonce = InfoNCE(temperature=temp)\n",
    "    ce_loss = CrossEntropyDistill(a,b, temp)\n",
    "    ce_loss_norm = CrossEntropyDistill(F.normalize(a), F.normalize(b))\n",
    "    infonce_loss = infonce(a, b)\n",
    "\n",
    "    y = torch.arange(4)\n",
    "    sup_con = sup_con_loss(torch.cat((a,b)), temp, torch.cat((y,y)))\n",
    "    sup_con_no_norm = sup_con_loss_no_norm(torch.cat((a,b)), temp, torch.cat((y,y)))\n",
    "\n",
    "    sim_matrix = torch.matmul(a, b.t())\n",
    "    nt_xent_pre = Supervised_NT_xent_pre(sim_matrix, y, temp)\n",
    "\n",
    "    print(f\"\\ntemp: {temp}\")\n",
    "    print(f\"ce_loss: {ce_loss:.6f}\")\n",
    "    print(f\"ce_loss_norm: {ce_loss_norm:.6f}\")\n",
    "    print(f\"infonce_loss: {infonce_loss:.6f}\")\n",
    "    print(f\"sup_con: {sup_con:.6f}\")\n",
    "    print(f\"sup_con_no_norm: {sup_con_no_norm:.6f}\")\n",
    "    print(f\"nt_xent_pre: {nt_xent_pre:.6f}\")\n"
   ]
  },
  {
   "cell_type": "code",
   "execution_count": 3,
   "metadata": {},
   "outputs": [
    {
     "name": "stdout",
     "output_type": "stream",
     "text": [
      "torch.Size([4, 3, 32, 32]) torch.Size([64, 3, 32, 32])\n"
     ]
    }
   ],
   "source": [
    "from utils.rotation_transform import Rotation, rot_inner_all\n",
    "\n",
    "x = torch.randn(4, 3, 32, 32)\n",
    "rot_x = Rotation(x)\n",
    "print(x.size(), rot_x.size())"
   ]
  },
  {
   "cell_type": "code",
   "execution_count": 4,
   "metadata": {},
   "outputs": [
    {
     "name": "stdout",
     "output_type": "stream",
     "text": [
      "torch.Size([4, 3, 32, 32]) torch.Size([16, 3, 32, 32])\n"
     ]
    }
   ],
   "source": [
    "x = torch.randn(4, 3, 32, 32)\n",
    "rot_x = rot_inner_all(x)\n",
    "print(x.size(), rot_x.size())"
   ]
  },
  {
   "cell_type": "code",
   "execution_count": 2,
   "metadata": {},
   "outputs": [
    {
     "name": "stdout",
     "output_type": "stream",
     "text": [
      "torch.Size([16, 3, 32, 32])\n"
     ]
    }
   ],
   "source": [
    "def GlobalRotation(x):\n",
    "    return torch.cat((x, torch.rot90(x, 2, (2, 3)), torch.rot90(x, 1, (2, 3)), torch.rot90(x, 3, (2, 3))), dim=0)\n",
    "\n",
    "x = torch.randn(4, 3, 32, 32)\n",
    "y = GlobalRotation(x)\n",
    "print(y.size())"
   ]
  }
 ],
 "metadata": {
  "kernelspec": {
   "display_name": "nn",
   "language": "python",
   "name": "python3"
  },
  "language_info": {
   "codemirror_mode": {
    "name": "ipython",
    "version": 3
   },
   "file_extension": ".py",
   "mimetype": "text/x-python",
   "name": "python",
   "nbconvert_exporter": "python",
   "pygments_lexer": "ipython3",
   "version": "3.7.12"
  }
 },
 "nbformat": 4,
 "nbformat_minor": 2
}
